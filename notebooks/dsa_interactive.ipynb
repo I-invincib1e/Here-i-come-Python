{
 "cells": [
  {
   "cell_type": "markdown",
   "metadata": {},
   "source": [
    "# Interactive Data Structures & Algorithms\n",
    "\n",
    "Welcome to this interactive DSA notebook! Here you'll learn fundamental algorithms and data structures through hands-on problem solving.\n",
    "\n",
    "## What you'll learn:\n",
    "- Array manipulation algorithms\n",
    "- Hash table usage for efficient lookups\n",
    "- Dynamic programming concepts\n",
    "- Time and space complexity analysis\n",
    "\n",
    "## Problem 1: Two Sum\n",
    "\n",
    "**Problem Statement:** Given an array of integers `nums` and an integer `target`, return indices of the two numbers such that they add up to `target`.\n",
    "\n",
    "**Example:**\n",
    "- Input: nums = [2, 7, 11, 15], target = 9\n",
    "- Output: [0, 1] (because nums[0] + nums[1] == 9)\n",
    "\n",
    "**Constraints:**\n",
    "- Each input has exactly one solution\n",
    "- You may not use the same element twice"
   ]
  },
  {
   "cell_type": "markdown",
   "metadata": {},
   "source": [
    "### Brute Force Approach\n",
    "\n",
    "The simplest way is to check every pair of numbers:"
   ]
  },
  {
   "cell_type": "code",
   "execution_count": null,
   "metadata": {},
   "outputs": [],
   "source": [
    "def two_sum_brute_force(nums, target):\n",
    "    for i in range(len(nums)):\n",
    "        for j in range(i + 1, len(nums)):\n",
    "            if nums[i] + nums[j] == target:\n",
    "                return [i, j]\n",
    "    return []\n",
    "\n",
    "# Test the brute force approach\n",
    "nums = [2, 7, 11, 15]\n",
    "target = 9\n",
    "result = two_sum_brute_force(nums, target)\n",
    "print(f\"Brute force result: {result}\")\n",
    "print(f\"Verification: nums[{result[0]}] + nums[{result[1]}] = {nums[result[0]]} + {nums[result[1]]} = {nums[result[0]] + nums[result[1]]}\")"
   ]
  },
  {
   "cell_type": "markdown",
   "metadata": {},
   "source": [
    "### Optimized Approach with Hash Table\n",
    "\n",
    "We can use a hash table to store numbers we've seen and their indices:"
   ]
  },
  {
   "cell_type": "code",
   "execution_count": null,
   "metadata": {},
   "outputs": [],
   "source": [
    "def two_sum_optimized(nums, target):\n",
    "    seen = {}\n",
    "    for i, num in enumerate(nums):\n",
    "        complement = target - num\n",
    "        if complement in seen:\n",
    "            return [seen[complement], i]\n",
    "        seen[num] = i\n",
    "    return []\n",
    "\n",
    "# Test the optimized approach\n",
    "result = two_sum_optimized(nums, target)\n",
    "print(f\"Optimized result: {result}\")\n",
    "print(f\"Time complexity: O(n) instead of O(n²)\")\n",
    "print(f\"Space complexity: O(n) for the hash table\")"
   ]
  },
  {
   "cell_type": "markdown",
   "metadata": {},
   "source": [
    "### Interactive Exercise: Two Sum\n",
    "\n",
    "Try solving Two Sum with different inputs:"
   ]
  },
  {
   "cell_type": "code",
   "execution_count": null,
   "metadata": {},
   "outputs": [],
   "source": [
    "# Your turn! Try different test cases\n",
    "test_cases = [\n",
    "    ([3, 2, 4], 6),      # Should return [1, 2]\n",
    "    ([3, 3], 6),         # Should return [0, 1]\n",
    "    ([1, 5, 3, 7], 8),  # Should return [1, 2] or [0, 3]\n",
    "]\n",
    "\n",
    "for nums, target in test_cases:\n",
    "    result = two_sum_optimized(nums, target)\n",
    "    print(f\"Input: nums={nums}, target={target}\")\n",
    "    print(f\"Output: {result}\")\n",
    "    if result:\n",
    "        print(f\"Verification: {nums[result[0]]} + {nums[result[1]]} = {nums[result[0]] + nums[result[1]]}\")\n",
    "    print()"
   ]
  },
  {
   "cell_type": "markdown",
   "metadata": {},
   "source": [
    "## Problem 2: Maximum Subarray Sum\n",
    "\n",
    "**Problem Statement:** Given an integer array `nums`, find the contiguous subarray with the largest sum, and return its sum.\n",
    "\n",
    "**Example:**\n",
    "- Input: nums = [-2, 1, -3, 4, -1, 2, 1, -5, 4]\n",
    "- Output: 6 (subarray [4, -1, 2, 1] has sum 6)\n",
    "\n",
    "**Constraints:**\n",
    "- Array can contain negative numbers\n",
    "- At least one element in the array"
   ]
  },
  {
   "cell_type": "markdown",
   "metadata": {},
   "source": [
    "### Brute Force Approach\n",
    "\n",
    "Check all possible subarrays:"
   ]
  },
  {
   "cell_type": "code",
   "execution_count": null,
   "metadata": {},
   "outputs": [],
   "source": [
    "def max_subarray_brute_force(nums):\n",
    "    if not nums:\n",
    "        return 0\n",
    "    \n",
    "    max_sum = float('-inf')\n",
    "    n = len(nums)\n",
    "    \n",
    "    for i in range(n):\n",
    "        for j in range(i, n):\n",
    "            current_sum = sum(nums[i:j+1])\n",
    "            max_sum = max(max_sum, current_sum)\n",
    "    \n",
    "    return max_sum\n",
    "\n",
    "# Test with example\n",
    "nums = [-2, 1, -3, 4, -1, 2, 1, -5, 4]\n",
    "result = max_subarray_brute_force(nums)\n",
    "print(f\"Brute force result: {result}\")\n",
    "print(f\"Time complexity: O(n³) - very slow for large arrays!\")"
   ]
  },
  {
   "cell_type": "markdown",
   "metadata": {},
   "source": [
    "### Kadane's Algorithm (Optimized)\n",
    "\n",
    "The efficient solution using dynamic programming:"
   ]
  },
  {
   "cell_type": "code",
   "execution_count": null,
   "metadata": {},
   "outputs": [],
   "source": [
    "def max_subarray_kadane(nums):\n",
    "    if not nums:\n",
    "        return 0\n",
    "    \n",
    "    max_current = max_global = nums[0]\n",
    "    \n",
    "    for num in nums[1:]:\n",
    "        max_current = max(num, max_current + num)\n",
    "        max_global = max(max_global, max_current)\n",
    "    \n",
    "    return max_global\n",
    "\n",
    "# Test Kadane's algorithm\n",
    "result = max_subarray_kadane(nums)\n",
    "print(f\"Kadane's result: {result}\")\n",
    "print(f\"Time complexity: O(n)\")\n",
    "print(f\"Space complexity: O(1)\")"
   ]
  },
  {
   "cell_type": "markdown",
   "metadata": {},
   "source": [
    "### Step-by-Step Visualization\n",
    "\n",
    "Let's see how Kadane's algorithm works step by step:"
   ]
  },
  {
   "cell_type": "code",
   "execution_count": null,
   "metadata": {},
   "outputs": [],
   "source": [
    "def max_subarray_with_steps(nums):\n",
    "    if not nums:\n",
    "        return 0\n",
    "    \n",
    "    max_current = max_global = nums[0]\n",
    "    print(f\"Initial: max_current = {max_current}, max_global = {max_global}\")\n",
    "    \n",
    "    for i, num in enumerate(nums[1:], 1):\n",
    "        new_current = max(num, max_current + num)\n",
    "        max_current = new_current\n",
    "        max_global = max(max_global, max_current)\n",
    "        \n",
    "        print(f\"Step {i}: num = {num}\")\n",
    "        print(f\"  max_current = max({num}, {max_current - num} + {num}) = {max_current}\")\n",
    "        print(f\"  max_global = max({max_global - max_current + max_current}, {max_current}) = {max_global}\")\n",
    "    \n",
    "    return max_global\n",
    "\n",
    "# Visualize with a smaller example\n",
    "small_nums = [-2, 1, -3, 4]\n",
    "print(\"Step-by-step for [-2, 1, -3, 4]:\")\n",
    "result = max_subarray_with_steps(small_nums)\n",
    "print(f\"\\nFinal result: {result}\")"
   ]
  },
  {
   "cell_type": "markdown",
   "metadata": {},
   "source": [
    "### Interactive Exercise: Maximum Subarray\n",
    "\n",
    "Try the algorithm with different arrays:"
   ]
  },
  {
   "cell_type": "code",
   "execution_count": null,
   "metadata": {},
   "outputs": [],
   "source": [
    "# Test cases for maximum subarray\n",
    "test_arrays = [\n",
    "    [1],                           # Single element\n",
    "    [1, -1, 1],                   # Mixed positive/negative\n",
    "    [-1, -2, -3, -4],            # All negative\n",
    "    [5, 4, -1, 7, 8],            # Standard case\n",
    "    [1, 2, 3, 4, 5],             # All positive\n",
    "]\n",
    "\n",
    "for arr in test_arrays:\n",
    "    result = max_subarray_kadane(arr)\n",
    "    print(f\"Array: {arr}\")\n",
    "    print(f\"Max subarray sum: {result}\")\n",
    "    print()"
   ]
  },
  {
   "cell_type": "markdown",
   "metadata": {},
   "source": [
    "## Key DSA Concepts Covered\n",
    "\n",
    "### Time Complexity Analysis:\n",
    "- **Two Sum**: O(n) with hash table vs O(n²) brute force\n",
    "- **Max Subarray**: O(n) with Kadane's vs O(n³) brute force\n",
    "\n",
    "### Space Complexity:\n",
    "- **Two Sum**: O(n) for hash table storage\n",
    "- **Max Subarray**: O(1) - constant space!\n",
    "\n",
    "### Common Patterns:\n",
    "1. **Hash tables** for O(1) lookups\n",
    "2. **Dynamic programming** for optimization problems\n",
    "3. **Two pointers** for array problems\n",
    "4. **Sliding window** for subarray problems"
   ]
  },
  {
   "cell_type": "markdown",
   "metadata": {},
   "source": [
    "## Practice Problems\n",
    "\n",
    "Try implementing these related problems:\n",
    "\n",
    "1. **Three Sum**: Find three numbers that sum to target\n",
    "2. **Maximum Product Subarray**: Similar to max sum but for product\n",
    "3. **Contains Duplicate**: Use hash set for O(n) solution\n",
    "4. **Best Time to Buy/Sell Stock**: Single pass with tracking min/max\n",
    "\n",
    "### Challenge: Implement Three Sum"
   ]
  },
  {
   "cell_type": "code",
   "execution_count": null,
   "metadata": {},
   "outputs": [],
   "source": [
    "def three_sum(nums, target):\n",
    "    # Sort the array first\n",
    "    nums.sort()\n",
    "    result = []\n",
    "    n = len(nums)\n",
    "    \n",
    "    for i in range(n - 2):\n",
    "        if i > 0 and nums[i] == nums[i - 1]:\n",
    "            continue\n",
    "        \n",
    "        left, right = i + 1, n - 1\n",
    "        while left < right:\n",
    "            current_sum = nums[i] + nums[left] + nums[right]\n",
    "            if current_sum == target:\n",
    "                result.append([nums[i], nums[left], nums[right]])\n",
    "                while left < right and nums[left] == nums[left + 1]:\n",
    "                    left += 1\n",
    "                while left < right and nums[right] == nums[right - 1]:\n",
    "                    right -= 1\n",
    "                left += 1\n",
    "                right -= 1\n",
    "            elif current_sum < target:\n",
    "                left += 1\n",
    "            else:\n",
    "                right -= 1\n",
    "    \n",
    "    return result\n",
    "\n",
    "# Test three sum\n",
    "nums = [-1, 0, 1, 2, -1, -4]\n",
    "target = 0\n",
    "result = three_sum(nums, target)\n",
    "print(f\"Three sum for {nums} with target {target}:\")\n",
    "for triplet in result:\n",
    "    print(f\"  {triplet} = {sum(triplet)}\")"
   ]
  },
  {
   "cell_type": "markdown",
   "metadata": {},
   "source": [
    "## Next Steps\n",
    "\n",
    "1. **Explore the DSA directory** in this project for more problems\n",
    "2. **Check the test files** to see expected behavior\n",
    "3. **Try implementing solutions** before looking at the provided code\n",
    "4. **Analyze time/space complexity** for each solution\n",
    "5. **Practice on LeetCode** or similar platforms\n",
    "\n",
    "Remember: The key to mastering DSA is consistent practice and understanding the underlying patterns!"
   ]
  }
 ],
 "metadata": {
  "kernelspec": {
   "display_name": "Python 3",
   "language": "python",
   "name": "python3"
  },
  "language_info": {
   "codemirror_mode": {
    "name": "ipython",
    "version": 3
   },
   "file_extension": ".py",
   "mimetype": "text/x-python",
   "name": "python",
   "nbconvert_exporter": "python",
   "pygments_lexer": "ipython3",
   "version": "3.8.0"
  }
 },
 "nbformat": 4,
 "nbformat_minor": 4
}
