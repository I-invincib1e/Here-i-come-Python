{
 "cells": [
  {
   "cell_type": "markdown",
   "metadata": {},
   "source": [
    "# Python Basics Interactive Tutorial\n",
    "\n",
    "Welcome to this interactive introduction to Python programming! This notebook will guide you through the fundamental concepts of Python syntax.\n",
    "\n",
    "## What you'll learn:\n",
    "- Variables and data types\n",
    "- Basic operations\n",
    "- Control structures (if/else, loops)\n",
    "- Functions\n",
    "- Lists and dictionaries"
   ]
  },
  {
   "cell_type": "markdown",
   "metadata": {},
   "source": [
    "## 1. Variables and Data Types\n",
    "\n",
    "Variables are containers for storing data values. Python has several built-in data types:"
   ]
  },
  {
   "cell_type": "code",
   "metadata": {
    "jupyter": {
     "is_executing": true
    }
   },
   "source": [
    "# Try creating some variables\n",
    "name = \"Python Learner\"\n",
    "age = 25\n",
    "height = 1.75\n",
    "is_student = True\n",
    "\n",
    "print(f\"Hello, {name}!\")\n",
    "print(f\"Age: {age}\")\n",
    "print(f\"Height: {height}m\")\n",
    "print(f\"Is student: {is_student}\")"
   ],
   "outputs": [],
   "execution_count": null
  },
  {
   "cell_type": "markdown",
   "metadata": {},
   "source": [
    "## 2. Basic Operations\n",
    "\n",
    "Python supports various mathematical and logical operations:"
   ]
  },
  {
   "cell_type": "code",
   "execution_count": null,
   "metadata": {},
   "outputs": [],
   "source": [
    "# Arithmetic operations\n",
    "a = 10\n",
    "b = 3\n",
    "\n",
    "print(f\"Addition: {a} + {b} = {a + b}\")\n",
    "print(f\"Subtraction: {a} - {b} = {a - b}\")\n",
    "print(f\"Multiplication: {a} * {b} = {a * b}\")\n",
    "print(f\"Division: {a} / {b} = {a / b}\")\n",
    "print(f\"Floor division: {a} // {b} = {a // b}\")\n",
    "print(f\"Modulus: {a} % {b} = {a % b}\")\n",
    "print(f\"Power: {a} ** {b} = {a ** b}\")"
   ]
  },
  {
   "cell_type": "markdown",
   "metadata": {},
   "source": [
    "## 3. Control Structures\n",
    "\n",
    "### If/Else Statements"
   ]
  },
  {
   "cell_type": "code",
   "execution_count": null,
   "metadata": {},
   "outputs": [],
   "source": [
    "# Try changing the value of x and see what happens\n",
    "x = 10\n",
    "\n",
    "if x > 0:\n",
    "    print(\"x is positive\")\n",
    "elif x < 0:\n",
    "    print(\"x is negative\")\n",
    "else:\n",
    "    print(\"x is zero\")"
   ]
  },
  {
   "cell_type": "markdown",
   "metadata": {},
   "source": [
    "### Loops"
   ]
  },
  {
   "cell_type": "code",
   "execution_count": null,
   "metadata": {},
   "outputs": [],
   "source": [
    "# For loop\n",
    "print(\"Counting to 5:\")\n",
    "for i in range(1, 6):\n",
    "    print(i)\n",
    "\n",
    "# While loop\n",
    "print(\"\\nWhile loop:\")\n",
    "count = 1\n",
    "while count <= 3:\n",
    "    print(f\"Count: {count}\")\n",
    "    count += 1"
   ]
  },
  {
   "cell_type": "markdown",
   "metadata": {},
   "source": [
    "## 4. Functions\n",
    "\n",
    "Functions are reusable blocks of code:"
   ]
  },
  {
   "cell_type": "code",
   "execution_count": null,
   "metadata": {},
   "outputs": [],
   "source": [
    "def greet(name):\n",
    "    return f\"Hello, {name}!\"\n",
    "\n",
    "def calculate_area(length, width):\n",
    "    return length * width\n",
    "\n",
    "# Test the functions\n",
    "print(greet(\"World\"))\n",
    "print(f\"Area of 5x3 rectangle: {calculate_area(5, 3)}\")"
   ]
  },
  {
   "cell_type": "markdown",
   "metadata": {},
   "source": [
    "## 5. Lists and Dictionaries\n",
    "\n",
    "### Lists (arrays)"
   ]
  },
  {
   "cell_type": "code",
   "execution_count": null,
   "metadata": {},
   "outputs": [],
   "source": [
    "# Create a list\n",
    "fruits = [\"apple\", \"banana\", \"cherry\"]\n",
    "\n",
    "print(\"Original list:\", fruits)\n",
    "print(\"First fruit:\", fruits[0])\n",
    "print(\"Last fruit:\", fruits[-1])\n",
    "\n",
    "# Add an item\n",
    "fruits.append(\"orange\")\n",
    "print(\"After adding orange:\", fruits)\n",
    "\n",
    "# Loop through list\n",
    "for fruit in fruits:\n",
    "    print(f\"I like {fruit}\")"
   ]
  },
  {
   "cell_type": "markdown",
   "metadata": {},
   "source": [
    "### Dictionaries"
   ]
  },
  {
   "cell_type": "code",
   "execution_count": null,
   "metadata": {},
   "outputs": [],
   "source": [
    "# Create a dictionary\n",
    "person = {\n",
    "    \"name\": \"Alice\",\n",
    "    \"age\": 30,\n",
    "    \"city\": \"New York\"\n",
    "}\n",
    "\n",
    "print(\"Person info:\", person)\n",
    "print(\"Name:\", person[\"name\"])\n",
    "\n",
    "# Add a new key-value pair\n",
    "person[\"job\"] = \"Engineer\"\n",
    "print(\"Updated person:\", person)\n",
    "\n",
    "# Loop through dictionary\n",
    "for key, value in person.items():\n",
    "    print(f\"{key}: {value}\")"
   ]
  },
  {
   "cell_type": "markdown",
   "metadata": {},
   "source": [
    "## Practice Exercise\n",
    "\n",
    "Create a program that:\n",
    "1. Asks for user's name\n",
    "2. Asks for their favorite number\n",
    "3. Prints a personalized message\n",
    "4. Creates a list of their favorite things\n",
    "\n",
    "Try implementing this below:"
   ]
  },
  {
   "cell_type": "code",
   "execution_count": null,
   "metadata": {},
   "outputs": [],
   "source": [
    "# Your practice code here\n",
    "# name = input(\"What's your name? \")\n",
    "# favorite_number = int(input(\"What's your favorite number? \"))\n",
    "# print(f\"Hello {name}, your favorite number is {favorite_number}!\")\n",
    "\n",
    "# Uncomment the lines above to try it out!"
   ]
  }
 ],
 "metadata": {
  "kernelspec": {
   "display_name": "Python 3",
   "language": "python",
   "name": "python3"
  },
  "language_info": {
   "codemirror_mode": {
    "name": "ipython",
    "version": 3
   },
   "file_extension": ".py",
   "mimetype": "text/x-python",
   "name": "python",
   "nbconvert_exporter": "python",
   "pygments_lexer": "ipython3",
   "version": "3.8.0"
  }
 },
 "nbformat": 4,
 "nbformat_minor": 4
}
