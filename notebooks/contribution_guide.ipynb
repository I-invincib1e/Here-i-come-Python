{
 "cells": [
  {
   "cell_type": "markdown",
   "metadata": {},
   "source": [
    "# Hands-on Contribution Tutorial\n",
    "\n",
    "Welcome to this interactive guide for contributing to the Python Practice Projects repository! This notebook will walk you through the process of making your first contribution.\n",
    "\n",
    "## What you'll learn:\n",
    "- Setting up the development environment\n",
    "- Understanding the project structure\n",
    "- Making your first code changes\n",
    "- Testing your changes\n",
    "- Creating a pull request\n",
    "\n",
    "## Prerequisites\n",
    "\n",
    "Before we start, make sure you have:\n",
    "- Python 3.8 or higher installed\n",
    "- Git installed\n",
    "- A GitHub account\n",
    "- Basic familiarity with Python"
   ]
  },
  {
   "cell_type": "markdown",
   "metadata": {},
   "source": [
    "## Step 1: Fork and Clone the Repository\n",
    "\n",
    "First, let's set up the project locally:"
   ]
  },
  {
   "cell_type": "code",
   "execution_count": null,
   "metadata": {},
   "outputs": [],
   "source": [
    "# Check if we're in the right directory\n",
    "import os\n",
    "print(f\"Current directory: {os.getcwd()}\")\n",
    "print(f\"Contents: {os.listdir('.')}\")\n",
    "\n",
    "# Check Python version\n",
    "import sys\n",
    "print(f\"Python version: {sys.version}\")"
   ]
  },
  {
   "cell_type": "markdown",
   "metadata": {},
   "source": [
    "## Step 2: Set Up the Development Environment\n",
    "\n",
    "Install the development dependencies:"
   ]
  },
  {
   "cell_type": "code",
   "execution_count": null,
   "metadata": {},
   "outputs": [],
   "source": [
    "# Check if pyproject.toml exists and read its contents\n",
    "if os.path.exists('pyproject.toml'):\n",
    "    print(\"✅ pyproject.toml found\")\n",
    "    with open('pyproject.toml', 'r') as f:\n",
    "        content = f.read()\n",
    "        print(\"Development dependencies in pyproject.toml:\")\n",
    "        for line in content.split('\\n'):\n",
    "            if 'dev' in line and ('pytest' in line or 'jupyter' in line or 'ipykernel' in line):\n",
    "                print(f\"  {line.strip()}\")\n",
    "else:\n",
    "    print(\"❌ pyproject.toml not found\")"
   ]
  },
  {
   "cell_type": "markdown",
   "metadata": {},
   "source": [
    "## Step 3: Explore the Project Structure\n",
    "\n",
    "Let's understand how the project is organized:"
   ]
  },
  {
   "cell_type": "code",
   "execution_count": null,
   "metadata": {},
   "outputs": [],
   "source": [
    "# List main directories\n",
    "directories = [d for d in os.listdir('.') if os.path.isdir(d)]\n",
    "print(\"Main project directories:\")\n",
    "for dir_name in sorted(directories):\n",
    "    print(f\"  📁 {dir_name}\")\n",
    "\n",
    "# Check basic_programs structure\n",
    "if os.path.exists('basic_programs'):\n",
    "    print(\"\\nBasic programs available:\")\n",
    "    basic_dirs = os.listdir('basic_programs')\n",
    "    for prog in sorted(basic_dirs):\n",
    "        if os.path.isdir(f'basic_programs/{prog}'):\n",
    "            print(f\"  🐍 {prog}\")"
   ]
  },
  {
   "cell_type": "markdown",
   "metadata": {},
   "source": [
    "## Step 4: Run Existing Tests\n",
    "\n",
    "Let's make sure everything is working before we make changes:"
   ]
  },
  {
   "cell_type": "code",
   "execution_count": null,
   "metadata": {},
   "outputs": [],
   "source": [
    "# Check if pytest is available\n",
    "try:\n",
    "    import pytest\n",
    "    print(\"✅ pytest is available\")\n",
    "    print(f\"pytest version: {pytest.__version__}\")\n",
    "except ImportError:\n",
    "    print(\"❌ pytest not installed\")\n",
    "\n",
    "# List test directories\n",
    "test_dirs = []\n",
    "for root, dirs, files in os.walk('.'):\n",
    "    if 'test' in root and 'tests' in dirs:\n",
    "        test_dirs.append(root)\n",
    "    elif 'tests' in root:\n",
    "        test_dirs.append(root)\n",
    "\n",
    "print(\"\\nTest directories found:\")\n",
    "for test_dir in sorted(set(test_dirs)):\n",
    "    print(f\"  🧪 {test_dir}\")"
   ]
  },
  {
   "cell_type": "markdown",
   "metadata": {},
   "source": [
    "## Step 5: Make Your First Change\n",
    "\n",
    "Let's create a simple improvement. We'll add a new basic program - a number guessing game with hints:"
   ]
  },
  {
   "cell_type": "code",
   "execution_count": null,
   "metadata": {},
   "outputs": [],
   "source": [
    "# First, let's look at an existing program structure\n",
    "if os.path.exists('basic_programs/guess_number'):\n",
    "    print(\"Existing guess_number program found!\")\n",
    "    files = os.listdir('basic_programs/guess_number')\n",
    "    print(\"Files:\", files)\n",
    "    \n",
    "    # Read the existing main.py\n",
    "    with open('basic_programs/guess_number/main.py', 'r') as f:\n",
    "        content = f.read()\n",
    "        print(\"\\nExisting guess_number/main.py content:\")\n",
    "        print(content[:300] + \"...\" if len(content) > 300 else content)\n",
    "else:\n",
    "    print(\"guess_number program not found\")"
   ]
  },
  {
   "cell_type": "markdown",
   "metadata": {},
   "source": [
    "### Let's Enhance the Existing Guess Number Game\n",
    "\n",
    "We'll add hints to make it more educational:"
   ]
  },
  {
   "cell_type": "code",
   "execution_count": null,
   "metadata": {},
   "outputs": [],
   "source": [
    "# Read the current guess number implementation\n",
    "with open('basic_programs/guess_number/main.py', 'r') as f:\n",
    "    original_code = f.read()\n",
    "\n",
    "print(\"Original guess number code:\")\n",
    "print(original_code)\n",
    "print(\"\\n\" + \"=\"*50)\n",
    "print(\"Let's enhance it with hints!\")"
   ]
  },
  {
   "cell_type": "code",
   "execution_count": null,
   "metadata": {},
   "outputs": [],
   "source": [
    "# Enhanced version with hints\n",
    "enhanced_code = '''\n",
    "import random\n",
    "\n",
    "def give_hint(guess, secret, attempts):\n",
    "    \"\"\"Give a helpful hint based on the guess and attempts made.\"\"\"\n",
    "    if attempts >= 5:\n",
    "        # Give stronger hints after several attempts\n",
    "        if secret % 2 == 0:\n",
    "            print(\"💡 Hint: The number is even!\")\n",
    "        else:\n",
    "            print(\"💡 Hint: The number is odd!\")\n",
    "        \n",
    "        if secret <= 10:\n",
    "            print(\"💡 Hint: The number is small (1-10)!\")\n",
    "        elif secret >= 90:\n",
    "            print(\"💡 Hint: The number is large (90-100)!\")\n",
    "    \n",
    "    # Always give relative hint\n",
    "    diff = abs(guess - secret)\n",
    "    if diff <= 5:\n",
    "        print(\"🔥 Hot! You're very close!\")\n",
    "    elif diff <= 15:\n",
    "        print(\"🌡️ Warm! You're getting closer!\")\n",
    "    else:\n",
    "        print(\"❄️ Cold! Try a different range!\")\n",
    "\n",
    "def play_game():\n",
    "    print(\"🎯 Welcome to Guess the Number with Hints!\")\n",
    "    print(\"I'm thinking of a number between 1 and 100...\")\n",
    "    \n",
    "    secret_number = random.randint(1, 100)\n",
    "    attempts = 0\n",
    "    max_attempts = 10\n",
    "    \n",
    "    while attempts < max_attempts:\n",
    "        try:\n",
    "            guess = int(input(f\"\\nAttempt {attempts + 1}/{max_attempts}. Enter your guess: \"))\n",
    "            attempts += 1\n",
    "            \n",
    "            if guess == secret_number:\n",
    "                print(f\"🎉 Congratulations! You guessed it in {attempts} attempts!\")\n",
    "                return True\n",
    "            elif guess < secret_number:\n",
    "                print(\"📈 Too low!\")\n",
    "            else:\n",
    "                print(\"📉 Too high!\")\n",
    "            \n",
    "            # Give hint after first few attempts\n",
    "            if attempts >= 3:\n",
    "                give_hint(guess, secret_number, attempts)\n",
    "                \n",
    "        except ValueError:\n",
    "            print(\"❌ Please enter a valid number!\")\n",
    "    \n",
    "    print(f\"\\n😅 Game over! The number was {secret_number}.\")\n",
    "    return False\n",
    "\n",
    "if __name__ == \"__main__\":\n",
    "    play_game()\n",
    "'''\n",
    "\n",
    "print(\"Enhanced guess number code with hints:\")\n",
    "print(enhanced_code)"
   ]
  },
  {
   "cell_type": "markdown",
   "metadata": {},
   "source": [
    "### Now let's save this enhanced version:"
   ]
  },
  {
   "cell_type": "code",
   "execution_count": null,
   "metadata": {},
   "outputs": [],
   "source": [
    "# Save the enhanced version (uncomment to actually save)\n",
    "# with open('basic_programs/guess_number/main_enhanced.py', 'w') as f:\n",
    "#     f.write(enhanced_code)\n",
    "# print(\"✅ Enhanced version saved as main_enhanced.py\")\n",
    "\n",
    "print(\"💡 To save the enhanced version, you would run:\")\n",
    "print(\"with open('basic_programs/guess_number/main_enhanced.py', 'w') as f:\")\n",
    "print(\"    f.write(enhanced_code)\")"
   ]
  },
  {
   "cell_type": "markdown",
   "metadata": {},
   "source": [
    "## Step 6: Test Your Changes\n",
    "\n",
    "Let's create a simple test for our enhanced game:"
   ]
  },
  {
   "cell_type": "code",
   "execution_count": null,
   "metadata": {},
   "outputs": [],
   "source": [
    "# Test the hint function\n",
    "def give_hint(guess, secret, attempts):\n",
    "    \"\"\"Give a helpful hint based on the guess and attempts made.\"\"\"\n",
    "    if attempts >= 5:\n",
    "        if secret % 2 == 0:\n",
    "            print(\"💡 Hint: The number is even!\")\n",
    "        else:\n",
    "            print(\"💡 Hint: The number is odd!\")\n",
    "        \n",
    "        if secret <= 10:\n",
    "            print(\"💡 Hint: The number is small (1-10)!\")\n",
    "        elif secret >= 90:\n",
    "            print(\"💡 Hint: The number is large (90-100)!\")\n",
    "    \n",
    "    diff = abs(guess - secret)\n",
    "    if diff <= 5:\n",
    "        print(\"🔥 Hot! You're very close!\")\n",
    "    elif diff <= 15:\n",
    "        print(\"🌡️ Warm! You're getting closer!\")\n",
    "    else:\n",
    "        print(\"❄️ Cold! Try a different range!\")\n",
    "\n",
    "# Test cases\n",
    "print(\"Testing hint function:\")\n",
    "print(\"\\nTest 1: Guess 50, Secret 52, Attempts 3\")\n",
    "give_hint(50, 52, 3)\n",
    "\n",
    "print(\"\\nTest 2: Guess 20, Secret 80, Attempts 6\")\n",
    "give_hint(20, 80, 6)\n",
    "\n",
    "print(\"\\nTest 3: Guess 45, Secret 47, Attempts 8\")\n",
    "give_hint(45, 47, 8)"
   ]
  },
  {
   "cell_type": "markdown",
   "metadata": {},
   "source": [
    "## Step 7: Update Documentation\n",
    "\n",
    "When you make changes, update the README:"
   ]
  },
  {
   "cell_type": "code",
   "execution_count": null,
   "metadata": {},
   "outputs": [],
   "source": [
    "# Read the current guess_number README\n",
    "readme_path = 'basic_programs/guess_number/README.md'\n",
    "if os.path.exists(readme_path):\n",
    "    with open(readme_path, 'r') as f:\n",
    "        current_readme = f.read()\n",
    "    print(\"Current README:\")\n",
    "    print(current_readme)\n",
    "    print(\"\\n\" + \"=\"*50)\n",
    "    print(\"You should update this to mention the new hint feature!\")\n",
    "else:\n",
    "    print(\"README not found\")"
   ]
  },
  {
   "cell_type": "markdown",
   "metadata": {},
   "source": [
    "## Step 8: Follow the Contribution Guidelines\n",
    "\n",
    "Let's review the contribution guidelines:"
   ]
  },
  {
   "cell_type": "code",
   "execution_count": null,
   "metadata": {},
   "outputs": [],
   "source": [
    "# Read CONTRIBUTING.md\n",
    "if os.path.exists('CONTRIBUTING.md'):\n",
    "    with open('CONTRIBUTING.md', 'r') as f:\n",
    "        contributing = f.read()\n",
    "    print(\"Contribution Guidelines:\")\n",
    "    print(contributing)\n",
    "else:\n",
    "    print(\"CONTRIBUTING.md not found\")"
   ]
  },
  {
   "cell_type": "markdown",
   "metadata": {},
   "source": [
    "## Step 9: Create a Pull Request\n",
    "\n",
    "Here's what you would do to submit your changes:"
   ]
  },
  {
   "cell_type": "code",
   "execution_count": null,
   "metadata": {},
   "outputs": [],
   "source": [
    "pr_steps = [\n",
    "    \"1. Commit your changes: git add . && git commit -m 'Add hints to guess number game'\",\n",
    "    \"2. Push to your fork: git push origin main\",\n",
    "    \"3. Create a Pull Request on GitHub\",\n",
    "    \"4. Describe your changes clearly\",\n",
    "    \"5. Reference any related issues\",\n",
    "    \"6. Wait for review and feedback\"\n",
    "]\n",
    "\n",
    "print(\"Pull Request Steps:\")\n",
    "for step in pr_steps:\n",
    "    print(f\"  ✅ {step}\")"
   ]
  },
  {
   "cell_type": "markdown",
   "metadata": {},
   "source": [
    "## Step 10: Best Practices for Contributors\n",
    "\n",
    "Key things to remember:"
   ]
  },
  {
   "cell_type": "code",
   "execution_count": null,
   "metadata": {},
   "outputs": [],
   "source": [
    "best_practices = {\n",
    "    \"Code Quality\": [\n",
    "        \"Use descriptive variable names\",\n",
    "        \"Add comments for complex logic\",\n",
    "        \"Follow PEP 8 style guidelines\",\n",
    "        \"Test your changes thoroughly\"\n",
    "    ],\n",
    "    \"Documentation\": [\n",
    "        \"Update READMEs for new features\",\n",
    "        \"Add docstrings to functions\",\n",
    "        \"Include usage examples\"\n",
    "    ],\n",
    "    \"Git Workflow\": [\n",
    "        \"Make small, focused commits\",\n",
    "        \"Write clear commit messages\",\n",
    "        \"Keep PRs focused on one feature\"\n",
    "    ],\n",
    "    \"Communication\": [\n",
    "        \"Be responsive to feedback\",\n",
    "        \"Explain your design decisions\",\n",
    "        \"Help review others' code\"\n",
    "    ]\n",
    "}\n",
    "\n",
    "for category, practices in best_practices.items():\n",
    "    print(f\"\\n{category}:\")\n",
    "    for practice in practices:\n",
    "        print(f\"  📌 {practice}\")"
   ]
  },
  {
   "cell_type": "markdown",
   "metadata": {},
   "source": [
    "## Practice Exercise: Your First Contribution\n",
    "\n",
    "Try implementing one of these beginner-friendly improvements:\n",
    "\n",
    "1. **Add Input Validation**: Make sure users enter numbers in the correct range\n",
    "2. **Add Difficulty Levels**: Easy (1-10), Medium (1-50), Hard (1-100)\n",
    "3. **Add Score Tracking**: Keep track of attempts and give points\n",
    "4. **Add Game Statistics**: Show best score, average attempts, etc.\n",
    "\n",
    "### Challenge: Implement Difficulty Levels"
   ]
  },
  {
   "cell_type": "code",
   "execution_count": null,
   "metadata": {},
   "outputs": [],
   "source": [
    "# Example implementation of difficulty levels\n",
    "def choose_difficulty():\n",
    "    \"\"\"Let user choose game difficulty.\"\"\"\n",
    "    print(\"\\nChoose difficulty:\")\n",
    "    print(\"1. Easy (1-10)\")\n",
    "    print(\"2. Medium (1-50)\")\n",
    "    print(\"3. Hard (1-100)\")\n",
    "    \n",
    "    while True:\n",
    "        try:\n",
    "            choice = int(input(\"Enter choice (1-3): \"))\n",
    "            if choice == 1:\n",
    "                return 10, 15  # max_num, max_attempts\n",
    "            elif choice == 2:\n",
    "                return 50, 10\n",
    "            elif choice == 3:\n",
    "                return 100, 7\n",
    "            else:\n",
    "                print(\"Please choose 1, 2, or 3\")\n",
    "        except ValueError:\n",
    "            print(\"Please enter a number\")\n",
    "\n",
    "# Test the difficulty selection\n",
    "print(\"Testing difficulty selection:\")\n",
    "# max_num, max_attempts = choose_difficulty()  # Uncomment to test\n",
    "print(\"(Would prompt user to choose difficulty)\")\n",
    "print(\"Easy: max_num=10, max_attempts=15\")\n",
    "print(\"Medium: max_num=50, max_attempts=10\")\n",
    "print(\"Hard: max_num=100, max_attempts=7\")"
   ]
  },
  {
   "cell_type": "markdown",
   "metadata": {},
   "source": [
    "## Next Steps\n",
    "\n",
    "1. **Explore the codebase** and find an area you'd like to improve\n",
    "2. **Check the issues** on GitHub for contribution ideas\n",
    "3. **Start small** - fix a bug or add a small feature\n",
    "4. **Ask for help** - the community is friendly and helpful!\n",
    "5. **Keep learning** - every contribution makes you a better developer\n",
    "\n",
    "## Resources\n",
    "\n",
    "- [GitHub Flow Guide](https://guides.github.com/introduction/flow/)\n",
    "- [Python PEP 8 Style Guide](https://pep8.org/)\n",
    "- [First Contributions Guide](https://github.com/firstcontributions/first-contributions)\n",
    "- [Open Source Guides](https://opensource.guide/)\n",
    "\n",
    "Remember: The best way to learn is by doing! Don't be afraid to make mistakes - that's how we all learn. 🚀"
   ]
  }
 ],
 "metadata": {
  "kernelspec": {
   "display_name": "Python 3",
   "language": "python",
   "name": "python3"
  },
  "language_info": {
   "codemirror_mode": {
    "name": "ipython",
    "version": 3
   },
   "file_extension": ".py",
   "mimetype": "text/x-python",
   "name": "python",
   "nbconvert_exporter": "python",
   "pygments_lexer": "ipython3",
   "version": "3.8.0"
  }
 },
 "nbformat": 4,
 "nbformat_minor": 4
}
