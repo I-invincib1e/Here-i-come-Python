{
 "cells": [
  {
   "cell_type": "markdown",
   "metadata": {},
   "source": [
    "# Project Walkthrough: Calculator CLI\n",
    "\n",
    "This notebook provides a step-by-step walkthrough of the Calculator CLI project from the basic_programs directory. We'll analyze the code, understand its structure, and learn how it works.\n",
    "\n",
    "## Project Overview\n",
    "\n",
    "The Calculator CLI is a simple command-line calculator that supports basic arithmetic operations. It demonstrates:\n",
    "- Modular code organization\n",
    "- Error handling\n",
    "- User input processing\n",
    "- REPL (Read-Eval-Print Loop) pattern"
   ]
  },
  {
   "cell_type": "markdown",
   "metadata": {},
   "source": [
    "## 1. Understanding the Code Structure\n",
    "\n",
    "Let's first look at the main components of the calculator:"
   ]
  },
  {
   "cell_type": "code",
   "execution_count": null,
   "metadata": {},
   "outputs": [],
   "source": [
    "# Import necessary modules\n",
    "from __future__ import annotations\n",
    "import operator\n",
    "from typing import Callable, Dict\n",
    "\n",
    "print(\"Imports loaded successfully!\")"
   ]
  },
  {
   "cell_type": "markdown",
   "metadata": {},
   "source": [
    "## 2. Operations Dictionary\n",
    "\n",
    "The `get_operations()` function creates a mapping of operators to their corresponding functions:"
   ]
  },
  {
   "cell_type": "code",
   "execution_count": null,
   "metadata": {},
   "outputs": [],
   "source": [
    "def get_operations() -> Dict[str, Callable[[float, float], float]]:\n",
    "    return {\n",
    "        \"+\": operator.add,\n",
    "        \"-\": operator.sub,\n",
    "        \"*\": operator.mul,\n",
    "        \"/\": operator.truediv,\n",
    "        \"^\": operator.pow,\n",
    "    }\n",
    "\n",
    "# Test the operations\n",
    "ops = get_operations()\n",
    "print(\"Available operations:\", list(ops.keys()))\n",
    "print(\"Addition function:\", ops[\"+\"](5, 3))"
   ]
  },
  {
   "cell_type": "markdown",
   "metadata": {},
   "source": [
    "## 3. The Calculate Function\n",
    "\n",
    "This is the core function that processes mathematical expressions:"
   ]
  },
  {
   "cell_type": "code",
   "execution_count": null,
   "metadata": {},
   "outputs": [],
   "source": [
    "def calculate(expr: str) -> float:\n",
    "    tokens = expr.strip().split()\n",
    "    if len(tokens) != 3:\n",
    "        raise ValueError(\"Use format: <number> <op> <number> e.g., 2 + 3\")\n",
    "\n",
    "    left_str, op, right_str = tokens\n",
    "    try:\n",
    "        left = float(left_str)\n",
    "        right = float(right_str)\n",
    "    except ValueError as exc:\n",
    "        raise ValueError(\"Operands must be numbers\") from exc\n",
    "\n",
    "    operations = get_operations()\n",
    "    if op not in operations:\n",
    "        raise ValueError(f\"Unsupported operator '{op}'. Supported: {', '.join(operations)}\")\n",
    "\n",
    "    if op == \"/\" and right == 0:\n",
    "        raise ZeroDivisionError(\"Cannot divide by zero\")\n",
    "\n",
    "    return operations[op](left, right)\n",
    "\n",
    "# Test the calculate function\n",
    "print(\"2 + 3 =\", calculate(\"2 + 3\"))\n",
    "print(\"10 / 2 =\", calculate(\"10 / 2\"))\n",
    "print(\"3 ^ 2 =\", calculate(\"3 ^ 2\"))"
   ]
  },
  {
   "cell_type": "markdown",
   "metadata": {},
   "source": [
    "## 4. Error Handling Examples\n",
    "\n",
    "Let's see how the function handles various error cases:"
   ]
  },
  {
   "cell_type": "code",
   "execution_count": null,
   "metadata": {},
   "outputs": [],
   "source": [
    "# Test error cases\n",
    "test_cases = [\n",
    "    \"2 + 3\",           # Valid\n",
    "    \"abc + 3\",         # Invalid number\n",
    "    \"2 @ 3\",           # Invalid operator\n",
    "    \"2 / 0\",           # Division by zero\n",
    "    \"2 + 3 + 4\",       # Too many operands\n",
    "]\n",
    "\n",
    "for case in test_cases:\n",
    "    try:\n",
    "        result = calculate(case)\n",
    "        print(f\"{case} = {result}\")\n",
    "    except Exception as e:\n",
    "        print(f\"{case} -> Error: {e}\")"
   ]
  },
  {
   "cell_type": "markdown",
   "metadata": {},
   "source": [
    "## 5. The REPL Function\n",
    "\n",
    "The Read-Eval-Print Loop handles user interaction:"
   ]
  },
  {
   "cell_type": "code",
   "execution_count": null,
   "metadata": {},
   "outputs": [],
   "source": [
    "def repl() -> None:\n",
    "    print(\"Simple Calculator CLI\")\n",
    "    print(\"Enter expressions like: 2 + 3  |  4 * 5  |  2 ^ 10\")\n",
    "    print(\"Type 'q' to quit.\\n\")\n",
    "\n",
    "    while True:\n",
    "        expr = input(\"> \").strip()\n",
    "        if expr.lower() in {\"q\", \"quit\", \"exit\"}:\n",
    "            print(\"Goodbye!\")\n",
    "            break\n",
    "        if not expr:\n",
    "            continue\n",
    "        try:\n",
    "            result = calculate(expr)\n",
    "            print(result)\n",
    "        except Exception as exc:  # noqa: BLE001 - simple CLI surfacing errors\n",
    "            print(f\"Error: {exc}\")\n",
    "\n",
    "# Note: We can't run the full REPL here since it requires user input\n",
    "# But we can simulate a few calculations\n",
    "print(\"Simulating calculator interactions:\")\n",
    "expressions = [\"5 + 3\", \"12 * 4\", \"100 / 5\", \"2 ^ 8\"]\n",
    "for expr in expressions:\n",
    "    try:\n",
    "        result = calculate(expr)\n",
    "        print(f\"> {expr}\")\n",
    "        print(result)\n",
    "    except Exception as e:\n",
    "        print(f\"Error: {e}\")\n",
    "print(\"\\n> q\")\n",
    "print(\"Goodbye!\")"
   ]
  },
  {
   "cell_type": "markdown",
   "metadata": {},
   "source": [
    "## 6. Code Organization Analysis\n",
    "\n",
    "Let's examine the key design decisions:"
   ]
  },
  {
   "cell_type": "code",
   "execution_count": null,
   "metadata": {},
   "outputs": [],
   "source": [
    "# The main execution block\n",
    "if __name__ == \"__main__\":\n",
    "    repl()\n",
    "\n",
    "print(\"This ensures the REPL only runs when the script is executed directly,\")\n",
    "print(\"not when imported as a module.\")"
   ]
  },
  {
   "cell_type": "markdown",
   "metadata": {},
   "source": [
    "## 7. Key Learning Points\n",
    "\n",
    "### Design Patterns Used:\n",
    "1. **Separation of Concerns**: Each function has a single responsibility\n",
    "2. **Dictionary-based Dispatch**: Using a dictionary to map operators to functions\n",
    "3. **REPL Pattern**: Common in interactive command-line tools\n",
    "\n",
    "### Best Practices Demonstrated:\n",
    "- Type hints for better code documentation\n",
    "- Comprehensive error handling\n",
    "- Input validation\n",
    "- Clear user interface with helpful messages\n",
    "\n",
    "### Potential Improvements:\n",
    "- Support for more complex expressions (e.g., 2 + 3 * 4)\n",
    "- History of previous calculations\n",
    "- Support for mathematical constants (π, e)\n",
    "- Unit tests for the functions"
   ]
  },
  {
   "cell_type": "markdown",
   "metadata": {},
   "source": [
    "## 8. Exercise: Extend the Calculator\n",
    "\n",
    "Try implementing one of these enhancements:\n",
    "1. Add support for square root operation (√)\n",
    "2. Add support for factorial (!)\n",
    "3. Add memory functions (store/recall last result)\n",
    "\n",
    "Here's a starting point for square root:"
   ]
  },
  {
   "cell_type": "code",
   "execution_count": null,
   "metadata": {},
   "outputs": [],
   "source": [
    "import math\n",
    "\n",
    "# Extended operations with square root\n",
    "def get_extended_operations():\n",
    "    base_ops = get_operations()\n",
    "    base_ops[\"√\"] = math.sqrt\n",
    "    return base_ops\n",
    "\n",
    "# Test square root (unary operation)\n",
    "print(\"√16 =\", math.sqrt(16))\n",
    "print(\"√2 =\", math.sqrt(2))"
   ]
  },
  {
   "cell_type": "markdown",
   "metadata": {},
   "source": [
    "## 9. Running the Original Program\n",
    "\n",
    "To run the calculator CLI locally:\n",
    "\n",
    "```bash\n",
    "cd basic_programs/calculator_cli\n",
    "python main.py\n",
    "```\n",
    "\n",
    "Then try expressions like:\n",
    "- `5 + 3`\n",
    "- `10 * 4`\n",
    "- `2 ^ 8`\n",
    "- `q` (to quit)"
   ]
  }
 ],
 "metadata": {
  "kernelspec": {
   "display_name": "Python 3",
   "language": "python",
   "name": "python3"
  },
  "language_info": {
   "codemirror_mode": {
    "name": "ipython",
    "version": 3
   },
   "file_extension": ".py",
   "mimetype": "text/x-python",
   "name": "python",
   "nbconvert_exporter": "python",
   "pygments_lexer": "ipython3",
   "version": "3.8.0"
  }
 },
 "nbformat": 4,
 "nbformat_minor": 4
}
